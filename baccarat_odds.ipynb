{
 "cells": [
  {
   "cell_type": "markdown",
   "metadata": {},
   "source": [
    "# Combinatorial Analysis of Baccarat\n",
    "\n",
    "\n",
    "[Rules of Baccarat (Punto Banco)](https://en.wikipedia.org/wiki/Baccarat_(card_game)#Punto_banco)\n",
    "\n",
    "Inspired by a [method described](https://www.888casino.com/blog/baccarat-tips/baccarat-combinatorial-analysis-the-easy-way) by Eliot Jacobson.\n",
    "\n",
    "> What makes CA easy for baccarat is the simple observation that every hand in baccarat is completely determined by a sequence of six cards. While it is true that the 5th and 6th cards may not be used, by always including them as a possibility, the baccarat universe can be fully written out [...]\n",
    "\n",
    "The general strategy is to count how many possible 6 card hands result in a given outcome (banker, tie, player) and divide that number by the total amount of possible 6 card hands to get a probability."
   ]
  },
  {
   "cell_type": "markdown",
   "metadata": {},
   "source": [
    "Consider all possible hands would be a bit slow so to speed up this computation, let's first just consider all \"unique\" hands (e.g. we assume that cards 10, J, Q, K are all equivalent)."
   ]
  },
  {
   "cell_type": "code",
   "execution_count": 2,
   "metadata": {
    "colab": {},
    "colab_type": "code",
    "id": "xpKkL9c38exQ"
   },
   "outputs": [
    {
     "data": {
      "text/plain": [
       "1000000"
      ]
     },
     "execution_count": 2,
     "metadata": {},
     "output_type": "execute_result"
    }
   ],
   "source": [
    "import itertools\n",
    "\n",
    "# Since cards 10, J, Q, K are all worth 10 so we just include 10 to avoid counting equivalent hands.\n",
    "# For example, (10, 2, 3, 4, 5, 6) is the same as (J, 2, 3, 4, 5, 6).\n",
    "card_values = [1,2,3,4,5,6,7,8,9,10]\n",
    "\n",
    "# Enumerate all 6 card unique hands\n",
    "unique_hands = list(itertools.product(card_values, repeat=6))\n",
    "\n",
    "len(unique_hands)"
   ]
  },
  {
   "cell_type": "markdown",
   "metadata": {},
   "source": [
    "For each unique hand, we will need to know:\n",
    "\n",
    "1. Its outcome (banker, player, tie).\n",
    "2. The number of non unique ways to draw it from a shoe (a shoe is typically 8 decks of cards). For example, the unique hand `(10, 2, 3, 4, 5, 6)` can be drawn in 4 different ways: `(10, 2, 3, 4, 5, 6)`, `(J, 2, 3, 4, 5, 6)`, `(Q, 2, 3, 4, 5, 6)`, `(K, 2, 3, 4, 5, 6)`.\n",
    "\n",
    "Knowing this, we can count how many possible hands lead to each outcome and divide that number by the total number of possible hands to get a probability for each outcome. "
   ]
  },
  {
   "cell_type": "code",
   "execution_count": 4,
   "metadata": {
    "colab": {
     "base_uri": "https://localhost:8080/",
     "height": 34
    },
    "colab_type": "code",
    "id": "0XcS9wzjJSoE",
    "outputId": "596ebd50-b773-4048-a71b-8b8750eabdb9"
   },
   "outputs": [
    {
     "data": {
      "text/plain": [
       "1040187392"
      ]
     },
     "execution_count": 4,
     "metadata": {},
     "output_type": "execute_result"
    }
   ],
   "source": [
    "n_suites = 4\n",
    "def count_hands(unique_hand, n_decks = 8):\n",
    "  card_count = n_suites * n_decks\n",
    "  # For each value, how many actual card produce it.\n",
    "  card_counts = {\n",
    "      '1': card_count,\n",
    "      '2': card_count,\n",
    "      '3': card_count,\n",
    "      '4': card_count,\n",
    "      '5': card_count,\n",
    "      '6': card_count,\n",
    "      '7': card_count,\n",
    "      '8': card_count,\n",
    "      '9': card_count,\n",
    "      '10': card_count * len(['10', 'J', 'Q', 'K'])\n",
    "  }\n",
    "  # count possible ways to form hand from shoe\n",
    "  count = 1\n",
    "  for c in unique_hand:\n",
    "    count = count * card_counts[str(c)]\n",
    "    # \"remove card from shoe\"\n",
    "    card_counts[str(c)] -= 1\n",
    "  return count\n",
    "\n",
    "example_hand = (5, 1, 3, 2, 2, 6)\n",
    "count_hands(example_hand)"
   ]
  },
  {
   "cell_type": "markdown",
   "metadata": {},
   "source": [
    "Now, for each of those unique hands, we will need to count how many result in a tie, banker win or player win. Let's write a function that takes a 6 card hand and computes the outcome:"
   ]
  },
  {
   "cell_type": "code",
   "execution_count": 5,
   "metadata": {
    "colab": {
     "base_uri": "https://localhost:8080/",
     "height": 34
    },
    "colab_type": "code",
    "id": "arbchtVfDyk5",
    "outputId": "210f5996-3839-4667-e52f-8d2ad3b6716e"
   },
   "outputs": [
    {
     "data": {
      "text/plain": [
       "'player'"
      ]
     },
     "execution_count": 5,
     "metadata": {},
     "output_type": "execute_result"
    }
   ],
   "source": [
    "# In Baccarat, when cards are added and the result is over 10, and only the last digit is kept.\n",
    "def bacc_add(n1, n2):\n",
    "  return (n1 + n2) % 10\n",
    "\n",
    "# Computing the outcome of a hand according to the somewhat complex rules of Baccarat. \n",
    "def compute_outcome(hand):\n",
    "  [c1,c2,c3,c4,c5,c6] = hand\n",
    "  banker_total = bacc_add(c1, c2)\n",
    "  player_total = bacc_add(c3, c4)\n",
    "  \n",
    "  if (player_total == 6 or player_total == 7):\n",
    "    if (banker_total <= 5):\n",
    "      banker_total = bacc_add(banker_total, c5)\n",
    "  elif (player_total <= 5 and banker_total < 8):\n",
    "    player_total = bacc_add(player_total, c5)\n",
    "    if (banker_total <= 2):\n",
    "      banker_total = bacc_add(banker_total, c6)\n",
    "    elif (banker_total == 3 and c5 != 8):\n",
    "      banker_total = bacc_add(banker_total, c6)\n",
    "    elif (banker_total == 4 and c5 in [2, 3, 4, 5, 6, 7]):\n",
    "      banker_total = bacc_add(banker_total, c6)\n",
    "    elif (banker_total == 5 and c5 in [4, 5, 6, 7]):\n",
    "      banker_total = bacc_add(banker_total, c6)\n",
    "    elif (banker_total == 6 and c5 in [6, 7]):\n",
    "      banker_total = bacc_add(banker_total, c6)\n",
    "  \n",
    "  if (banker_total > player_total):\n",
    "    return 'banker'\n",
    "  elif (player_total > banker_total):\n",
    "    return 'player'\n",
    "  return 'tie'\n",
    "  \n",
    "example_hand = (5, 1, 3, 2, 2, 6)\n",
    "compute_outcome(example_hand)"
   ]
  },
  {
   "cell_type": "markdown",
   "metadata": {},
   "source": [
    "We are ready to compute the outcome and hand count of each unique hand."
   ]
  },
  {
   "cell_type": "code",
   "execution_count": 6,
   "metadata": {
    "colab": {
     "base_uri": "https://localhost:8080/",
     "height": 34
    },
    "colab_type": "code",
    "id": "UUGNvumMCynF",
    "outputId": "1296aaaa-f847-4424-baba-b9273aa28623"
   },
   "outputs": [
    {
     "name": "stdout",
     "output_type": "stream",
     "text": [
      "{'tie': 475627426473216, 'banker': 2292252566437888, 'player': 2230518282592256}\n"
     ]
    }
   ],
   "source": [
    "counts = { 'tie':0, 'banker':0, 'player':0 }\n",
    "for hand in unique_hands:\n",
    "  outcome = compute_outcome(hand)\n",
    "  count = count_hands(hand)\n",
    "  counts[outcome] += count\n",
    "\n",
    "print(counts)"
   ]
  },
  {
   "cell_type": "markdown",
   "metadata": {},
   "source": [
    "We can now compute the probability for each outcome by diviging the number of hands for each by the number of possible hands."
   ]
  },
  {
   "cell_type": "code",
   "execution_count": 11,
   "metadata": {
    "colab": {
     "base_uri": "https://localhost:8080/",
     "height": 102
    },
    "colab_type": "code",
    "id": "PGLslPzKDN8b",
    "outputId": "a03a94df-eab3-4862-e4f2-4d9da074a974"
   },
   "outputs": [
    {
     "name": "stdout",
     "output_type": "stream",
     "text": [
      "Assuming an 8 decks shoe:\n",
      "\n",
      "total count 4998398275503360\n",
      "probabilities:\n",
      "tie: 0.0951559680236402\n",
      "banker: 0.458597422632763\n",
      "player: 0.44624660934359683\n"
     ]
    }
   ],
   "source": [
    "tie = counts['tie']\n",
    "banker = counts['banker']\n",
    "player = counts['player']\n",
    "total_count = tie + banker + player\n",
    "\n",
    "\n",
    "print('Assuming an 8 decks shoe:')\n",
    "print('')\n",
    "print('total count', total_count)\n",
    "\n",
    "print('probabilities:')\n",
    "print('tie:', tie / total_count)\n",
    "print('banker:', banker / total_count)\n",
    "print('player:', player / total_count)"
   ]
  },
  {
   "cell_type": "code",
   "execution_count": null,
   "metadata": {},
   "outputs": [],
   "source": []
  }
 ],
 "metadata": {
  "colab": {
   "collapsed_sections": [],
   "name": "baccarat-odds.ipynb",
   "provenance": []
  },
  "kernelspec": {
   "display_name": "baccarat-odds",
   "language": "python",
   "name": "baccarat-odds"
  },
  "language_info": {
   "codemirror_mode": {
    "name": "ipython",
    "version": 3
   },
   "file_extension": ".py",
   "mimetype": "text/x-python",
   "name": "python",
   "nbconvert_exporter": "python",
   "pygments_lexer": "ipython3",
   "version": "3.7.0"
  }
 },
 "nbformat": 4,
 "nbformat_minor": 1
}
